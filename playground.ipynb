{
 "cells": [
  {
   "cell_type": "markdown",
   "metadata": {},
   "source": [
    "# Classification playground"
   ]
  },
  {
   "cell_type": "markdown",
   "metadata": {},
   "source": [
    "Put your imports here."
   ]
  },
  {
   "cell_type": "code",
   "execution_count": 3,
   "metadata": {},
   "outputs": [],
   "source": [
    "from sklearn.ensemble import RandomForestClassifier\n",
    "import pandas as pd\n",
    "import numpy as np\n",
    "import sqlite3\n",
    "from datetime import datetime as dt\n",
    "\n",
    "from dataset_util import uci_mhealth\n",
    "from dataset_util.extract_input_features import all_feature, extract_features\n",
    "import matplotlib.pyplot as plt\n",
    "\n",
    "from config import SQLITE_DATABASE_FILE\n",
    "from plots import plot_confusion_matrix"
   ]
  },
  {
   "cell_type": "markdown",
   "metadata": {},
   "source": [
    "Load dataset from sqlite database.\n",
    "\n",
    "Make sure you have downloaded the raw datasets and loaded them into the database by running:\n",
    "```\n",
    "python rawdataset.py\n",
    "python load_dataset.py\n",
    "```"
   ]
  },
  {
   "cell_type": "code",
   "execution_count": 5,
   "metadata": {},
   "outputs": [],
   "source": [
    "with sqlite3.connect(SQLITE_DATABASE_FILE) as conn:\n",
    "    # features = pd.read_sql_query(uci_mhealth.raw_table_valid_data_query, conn)\n",
    "    global sliding_windows, subject_ids, activity_ids\n",
    "    sliding_windows = uci_mhealth.to_sliding_windows(conn)\n",
    "    subject_ids = uci_mhealth.get_subject_ids(conn)\n",
    "    activity_ids = uci_mhealth.get_activity_ids(conn)"
   ]
  },
  {
   "cell_type": "markdown",
   "metadata": {},
   "source": [
    "Now we can play with it."
   ]
  },
  {
   "cell_type": "code",
   "execution_count": 6,
   "metadata": {},
   "outputs": [
    {
     "name": "stdout",
     "output_type": "stream",
     "text": [
      "features extracted\n",
      "training set and test set ready\n",
      "training set: (2380, 322)\n",
      "test set: (1047, 322)\n",
      "Confusion matrix, without normalization\n",
      "[[91  0  0  0  0  0  0  0  0  0  0  0]\n",
      " [ 1 91  0  0  0  0  0  0  0  0  0  0]\n",
      " [ 0  0 93  0  0  0  0  0  0  0  0  0]\n",
      " [ 0  0  0 93  0  0  0  0  0  0  0  0]\n",
      " [ 0  0  0  3 88  0  0  1  0  0  0  0]\n",
      " [ 0  0  0  0  0 92  0  0  0  0  0  0]\n",
      " [ 0  0  0  0  0  0 94  0  1  0  0  0]\n",
      " [ 0  0  0  0  0  1  0 89  2  0  0  0]\n",
      " [ 0  0  0  0  0  0  0  0 92  0  0  0]\n",
      " [ 0  0  0  0  0  0  0  0  0 92  0  0]\n",
      " [ 0  0  0  0  0  0  0  0  0 54 37  1]\n",
      " [ 0  0  0  0  0  0  0  0  0  1  0 30]]\n"
     ]
    },
    {
     "data": {
      "image/png": "[encoded data removed]",
      "text/plain": [
       "<Figure size 432x288 with 2 Axes>"
      ]
     },
     "metadata": {
      "needs_background": "light"
     },
     "output_type": "display_data"
    }
   ],
   "source": [
    "TRAINING_SET_PROPORTION = 0.7\n",
    "\n",
    "features = extract_features(sliding_windows, all_feature)\n",
    "print(\"features extracted\")\n",
    "\n",
    "n_subs = len(subject_ids)\n",
    "n_training = round(n_subs * TRAINING_SET_PROPORTION)\n",
    "# n_test = n_subs - n_training\n",
    "idx = np.isin(features.loc[:,\"subject_id\"], subject_ids[:n_training])\n",
    "training_set = features[idx]\n",
    "test_set = features[np.logical_not(idx)]\n",
    "train_X, train_y = uci_mhealth.to_classification(training_set)\n",
    "test_X, test_y = uci_mhealth.to_classification(test_set)\n",
    "print(\"training set and test set ready\")\n",
    "print(\"training set:\", np.shape(train_X))\n",
    "print(\"test set:\", np.shape(test_X))\n",
    "\n",
    "clsf = RandomForestClassifier(n_estimators=500, class_weight=\"balanced\", n_jobs=-1)\n",
    "clsf.fit(train_X,train_y)\n",
    "RF_pred = clsf.predict(test_X)\n",
    "# test_y = list(map(lambda x: int(x), test_y))\n",
    "# RF_pred = list(map(lambda x: int(x), RF_pred))\n",
    "activity_ids.sort()\n",
    "activity_ids = list(map(lambda x: str(x), activity_ids))[1:]\n",
    "plot_confusion_matrix(test_y, RF_pred, activity_ids)\n",
    "plt.show()"
   ]
  },
  {
   "cell_type": "code",
   "execution_count": null,
   "metadata": {},
   "outputs": [],
   "source": []
  }
 ],
 "metadata": {
  "kernelspec": {
   "display_name": "Python 3",
   "language": "python",
   "name": "python3"
  },
  "language_info": {
   "codemirror_mode": {
    "name": "ipython",
    "version": 3
   },
   "file_extension": ".py",
   "mimetype": "text/x-python",
   "name": "python",
   "nbconvert_exporter": "python",
   "pygments_lexer": "ipython3",
   "version": "3.7.3"
  }
 },
 "nbformat": 4,
 "nbformat_minor": 2
}
